{
 "cells": [
  {
   "cell_type": "code",
   "execution_count": 71,
   "metadata": {},
   "outputs": [],
   "source": [
    "import numpy as np\n",
    "#from scipy.spatial.transform import Rotation as Rot\n",
    "#from scipy.linalg import norm\n",
    "#import matplotlib.pyplot as plt"
   ]
  },
  {
   "cell_type": "code",
   "execution_count": 118,
   "metadata": {},
   "outputs": [],
   "source": [
    "def fixFromMob(angs, mobs):\n",
    "    [ct, st, cp, sp] = angs\n",
    "    [m1, m2, m3] = mobs    \n",
    "    f1 = ct*m1 - st*m2\n",
    "    f2 = st*cp*m1 + ct*cp*m2 - sp*m3\n",
    "    f3 = st*sp*m1 + ct*sp*m2 + cp*m3\n",
    "    return [f1, f2, f3]\n",
    "def mobFromFix(angs, fixs):\n",
    "    [ct, st, cp, sp] = angs\n",
    "    [f1, f2, f3] = fixs\n",
    "    m1 = ct*f1 + st*cp*f2 + st*sp*f3\n",
    "    m2 = -st*f1 + ct*cp*f2 + ct*sp*f3\n",
    "    m3 = -sp*f2 + cp*f3\n",
    "    return [m1, m2, m3]\n",
    "def quadSolve(a, b, c):\n",
    "    delta2 = max(0.0, b**2 - 4*a*c)\n",
    "    x1 = (-b + np.sqrt(delta2))/(2*a)\n",
    "    x2 = (-b - np.sqrt(delta2))/(2*a)\n",
    "    return [x1, x2]\n",
    "def diff(v1, v2):\n",
    "    return 1.0 - (v1[0]*v2[0] + v1[1]*v2[1] + v1[2]*v2[2])\n",
    "def findAngsY(m):\n",
    "    print(\"Ph: \", np.arctan(-m[2]/np.sqrt(m[0]**2+m[1]**2)))\n",
    "    print(\"Th:\", np.arctan(m[0]/m[1]))\n",
    "def findAngs(f, m):\n",
    "    [f1, f2, f3] = f\n",
    "    [m1, m2, m3] = m\n",
    "    a, b, c = m1**2 + m2**2, 2*f1*m2, f1**2 - m1**2\n",
    "    st = quadSolve(a, b, c)\n",
    "    ct = [(f1 + x*m2)/m1 for x in st]\n",
    "    a, b, c = f2**2 + f3**2, 2*f2*m3, m3**2 - f3**2\n",
    "    sp = quadSolve(a, b, c)\n",
    "    cp = [(m3 + x*f2)/f3 for x in sp]\n",
    "    min = 1.0\n",
    "    res = 0.0    \n",
    "    angs = [ct[0], st[0], cp[0], sp[0]]\n",
    "    ff = fixFromMob(angs, m)\n",
    "    if diff(ff, f) < 1:#min:\n",
    "        res, min = angs, diff(ff, f)\n",
    "        resa = [np.arccos(res[0]), np.arcsin(res[1]), np.arccos(res[2]), np.arcsin(res[3])]\n",
    "        resa = [np.arctan(res[1]/res[0]), np.arctan(res[3]/res[2])]\n",
    "        print(\"ct[0], st[0], cp[0], sp[0]\")\n",
    "        print(resa, min)\n",
    "    angs = [ct[0], st[0], cp[1], sp[1]]\n",
    "    ff = fixFromMob(angs, m)\n",
    "    if diff(ff, f) < 1:#min:\n",
    "        res, min = angs, diff(ff, f)\n",
    "        resa = [np.arccos(res[0]), np.arcsin(res[1]), np.arccos(res[2]), np.arcsin(res[3])]\n",
    "        resa = [np.arctan(res[1]/res[0]), np.arctan(res[3]/res[2])]\n",
    "        print(\"ct[0], st[0], cp[1], sp[1]\")\n",
    "        print(resa, min)\n",
    "    angs = [ct[1], st[1], cp[0], sp[0]]\n",
    "    ff = fixFromMob(angs, m)\n",
    "    if diff(ff, f) < 1:#min:\n",
    "        res, min = angs, diff(ff, f)\n",
    "        resa = [np.arccos(res[0]), np.arcsin(res[1]), np.arccos(res[2]), np.arcsin(res[3])]\n",
    "        resa = [np.arctan(res[1]/res[0]), np.arctan(res[3]/res[2])]\n",
    "        print(\"ct[1], st[1], cp[0], sp[0]\")\n",
    "        print(resa, min)\n",
    "    angs = [ct[1], st[1], cp[1], sp[1]]\n",
    "    ff = fixFromMob(angs, m)\n",
    "    if diff(ff, f) < 1:#min:\n",
    "        res, min = angs, diff(ff, f)\n",
    "        resa = [np.arccos(res[0]), np.arcsin(res[1]), np.arccos(res[2]), np.arcsin(res[3])]\n",
    "        resa = [np.arctan(res[1]/res[0]), np.arctan(res[3]/res[2])]\n",
    "        print(\"ct[1], st[1], cp[1], sp[1]\")\n",
    "        print(resa, min)\n",
    "    return min, res"
   ]
  },
  {
   "cell_type": "code",
   "execution_count": 137,
   "metadata": {
    "tags": []
   },
   "outputs": [
    {
     "output_type": "stream",
     "name": "stdout",
     "text": "[-0.025559197319169506, 0.07022331749380334, 0.9972037971811801]\nPh:  -1.4959965017094252\nTh: -0.3490658503988659\n-1.4959965017094252 -0.3490658503988659\n"
    }
   ],
   "source": [
    "#Escolha de uma direção inicial para o vetor g medido pelo acelerômetro:\n",
    "#m = [0.05, 0.95, np.sqrt(1.0 - 0.05**2 - 0.95**2)]\n",
    "m = [0.0, 1.0, 0.0]\n",
    "#Valor de g definido em th = 0 e ph = 0:\n",
    "f = m.copy()\n",
    "#Tenta encontar os ângulos:\n",
    "ph, th = -np.pi/2.1,-np.pi/9\n",
    "angs = [np.cos(th), np.sin(th), np.cos(ph), np.sin(ph)]\n",
    "ma = mobFromFix(angs, f)\n",
    "print(ma)\n",
    "#min, res = findAngs(f, ma)\n",
    "findAngsY(ma)\n",
    "#print(min)\n",
    "#print(res)\n",
    "print(ph, th)"
   ]
  },
  {
   "cell_type": "code",
   "execution_count": 9,
   "metadata": {},
   "outputs": [],
   "source": []
  }
 ],
 "metadata": {
  "language_info": {
   "codemirror_mode": {
    "name": "ipython",
    "version": 3
   },
   "file_extension": ".py",
   "mimetype": "text/x-python",
   "name": "python",
   "nbconvert_exporter": "python",
   "pygments_lexer": "ipython3",
   "version": "3.5.2-final"
  },
  "orig_nbformat": 2,
  "kernelspec": {
   "name": "python35264bite079d6ba41cc42ecbfca7e8e2288074a",
   "display_name": "Python 3.5.2 64-bit"
  }
 },
 "nbformat": 4,
 "nbformat_minor": 2
}